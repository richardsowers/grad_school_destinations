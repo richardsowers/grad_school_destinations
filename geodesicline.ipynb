{
 "cells": [
  {
   "cell_type": "markdown",
   "metadata": {},
   "source": [
    "### Geodesic arcs between points ###\n",
    "by: Richard Sowers\n",
    "* <r-sowers@illinois.edu>\n",
    "* <https://publish.illinois.edu/r-sowers/>\n",
    "\n",
    "Copyright 2018 University of Illinois Board of Trustees. All Rights Reserved. Licensed under the MIT license\n",
    "\n",
    "### Explanation###\n",
    "This code computes the value of pi.  More generally, tell the reader what the point of the code is"
   ]
  },
  {
   "cell_type": "markdown",
   "metadata": {},
   "source": [
    "imports"
   ]
  },
  {
   "cell_type": "code",
   "execution_count": 1,
   "metadata": {},
   "outputs": [],
   "source": [
    "import geographiclib.geodesic\n",
    "import pandas\n",
    "import numpy\n",
    "geod = geographiclib.geodesic.Geodesic.WGS84\n",
    "import json\n",
    "import urllib.request\n",
    "import urllib.parse"
   ]
  },
  {
   "cell_type": "code",
   "execution_count": 2,
   "metadata": {},
   "outputs": [],
   "source": [
    "fname=\"destination_query_count\"\n",
    "APIKey="
   ]
  },
  {
   "cell_type": "code",
   "execution_count": 3,
   "metadata": {},
   "outputs": [
    {
     "data": {
      "text/plain": [
       "{'lat': 40.4432027, 'lng': -79.9428499}"
      ]
     },
     "execution_count": 3,
     "metadata": {},
     "output_type": "execute_result"
    }
   ],
   "source": [
    "def get_latlng(place):\n",
    "    query=\"https://maps.googleapis.com/maps/api/geocode/json?address={0:s}&key={1:s}\"\n",
    "    \n",
    "    def to_query(place):\n",
    "        return query.format(urllib.parse.quote_plus(place),APIKey)\n",
    "    \n",
    "    \n",
    "    with urllib.request.urlopen(to_query(place)) as response:\n",
    "        place_json = json.loads(response.read())\n",
    "        \n",
    "    return place_json[\"results\"][0][\"geometry\"][\"location\"]\n",
    "\n",
    "    \n",
    "get_latlng(\"Carnegie Mellon University\")\n"
   ]
  },
  {
   "cell_type": "markdown",
   "metadata": {},
   "source": [
    "UIUC location"
   ]
  },
  {
   "cell_type": "code",
   "execution_count": 4,
   "metadata": {},
   "outputs": [],
   "source": [
    "(UIUC_lat,UIUC_lon)=(40.1020,-88.2272)"
   ]
  },
  {
   "cell_type": "markdown",
   "metadata": {},
   "source": [
    "Compute geodesic arc from UIUC to other point"
   ]
  },
  {
   "cell_type": "code",
   "execution_count": 5,
   "metadata": {
    "scrolled": true
   },
   "outputs": [],
   "source": [
    "def makearc(other_lat,other_lon,num=20):\n",
    "    geoline = geod.InverseLine(UIUC_lat,UIUC_lon,other_lat,other_lon ,geographiclib.geodesic.Geodesic.LATITUDE | geographiclib.geodesic.Geodesic.LONGITUDE)\n",
    "    waypoints=numpy.linspace(start=0,stop=geoline.a13,num=num)\n",
    "    \n",
    "    def getlatlng(waypoint):\n",
    "        g = geoline.ArcPosition(waypoint, geographiclib.geodesic.Geodesic.LATITUDE |geographiclib.geodesic.Geodesic.LONGITUDE | geographiclib.geodesic.Geodesic.LONG_UNROLL)\n",
    "        return [g[\"lon2\"],g[\"lat2\"]]\n",
    "    \n",
    "    out=[getlatlng(waypoint) for waypoint in waypoints]\n",
    "    return out"
   ]
  },
  {
   "cell_type": "code",
   "execution_count": 6,
   "metadata": {},
   "outputs": [
    {
     "data": {
      "text/plain": [
       "[[-88.2272, 40.102000000000004],\n",
       " [-88.08519806907594, 40.11787481702975],\n",
       " [-87.94313031251552, 40.13357542117023],\n",
       " [-87.80099739074848, 40.149101636272135],\n",
       " [-87.6587999670668, 40.16445328793198],\n",
       " [-87.51653870760077, 40.17963020350071],\n",
       " [-87.37421428129487, 40.194632212092394],\n",
       " [-87.23182735988316, 40.209459144592785],\n",
       " [-87.08937861786463, 40.224110833667744],\n",
       " [-86.94686873247807, 40.23858711377175],\n",
       " [-86.80429838367685, 40.252887821156165],\n",
       " [-86.66166825410325, 40.26701279387757],\n",
       " [-86.51897902906266, 40.28096187180593],\n",
       " [-86.37623139649739, 40.294734896632725],\n",
       " [-86.23342604696035, 40.308331711878964],\n",
       " [-86.09056367358836, 40.321752162903245],\n",
       " [-85.94764497207522, 40.33499609690954],\n",
       " [-85.80467064064453, 40.34806336295509],\n",
       " [-85.66164138002227, 40.360953811958055],\n",
       " [-85.51855789340907, 40.37366729670526],\n",
       " [-85.37542088645222, 40.38620367185968],\n",
       " [-85.23223106721758, 40.398562793968],\n",
       " [-85.08898914616107, 40.410744521467926],\n",
       " [-84.94569583609984, 40.4227487146956],\n",
       " [-84.80235185218355, 40.43457523589278],\n",
       " [-84.658957911865, 40.44622394921397],\n",
       " [-84.51551473487079, 40.45769472073353],\n",
       " [-84.37202304317154, 40.46898741845261],\n",
       " [-84.22848356095216, 40.48010191230603],\n",
       " [-84.08489701458154, 40.49103807416909],\n",
       " [-83.9412641325823, 40.50179577786426],\n",
       " [-83.79758564560012, 40.5123748991678],\n",
       " [-83.65386228637297, 40.522775315816254],\n",
       " [-83.51009478970003, 40.532996907512896],\n",
       " [-83.36628389241042, 40.54303955593403],\n",
       " [-83.22243033333181, 40.5529031447353],\n",
       " [-83.07853485325867, 40.56258755955772],\n",
       " [-82.93459819492033, 40.57209268803379],\n",
       " [-82.79062110294893, 40.58141841979345],\n",
       " [-82.64660432384713, 40.59056464646988],\n",
       " [-82.50254860595554, 40.59953126170529],\n",
       " [-82.35845469942008, 40.60831816115652],\n",
       " [-82.21432335615899, 40.616925242500685],\n",
       " [-82.07015532982982, 40.6253524054405],\n",
       " [-81.9259513757961, 40.633599551709764],\n",
       " [-81.78171225109395, 40.64166658507848],\n",
       " [-81.63743871439829, 40.64955341135809],\n",
       " [-81.49313152598917, 40.65725993840648],\n",
       " [-81.34879144771767, 40.6647860761329],\n",
       " [-81.20441924297178, 40.67213173650285],\n",
       " [-81.06001567664201, 40.67929683354274],\n",
       " [-80.91558151508701, 40.68628128334456],\n",
       " [-80.77111752609875, 40.693085004070404],\n",
       " [-80.6266244788678, 40.69970791595679],\n",
       " [-80.48210314394834, 40.7061499413191],\n",
       " [-80.33755429322302, 40.71241100455565],\n",
       " [-80.19297869986777, 40.71849103215181],\n",
       " [-80.04837713831621, 40.72438995268404],\n",
       " [-79.90375038422434, 40.73010769682366],\n",
       " [-79.75909921443467, 40.735644197340655],\n",
       " [-79.61442440694051, 40.74099938910733],\n",
       " [-79.46972674085002, 40.746173209101805],\n",
       " [-79.32500699635004, 40.75116559641145],\n",
       " [-79.18026595467008, 40.755976492236215],\n",
       " [-79.03550439804587, 40.760605839891824],\n",
       " [-78.89072310968305, 40.76505358481282],\n",
       " [-78.74592287372063, 40.76931967455556],\n",
       " [-78.6011044751943, 40.773404058801106],\n",
       " [-78.45626869999981, 40.77730668935788],\n",
       " [-78.31141633485612, 40.78102752016441],\n",
       " [-78.16654816726845, 40.78456650729173],\n",
       " [-78.0216649854913, 40.78792360894585],\n",
       " [-77.87676757849144, 40.79109878547003],\n",
       " [-77.73185673591067, 40.794091999346904],\n",
       " [-77.58693324802861, 40.79690321520059],\n",
       " [-77.44199790572544, 40.79953239979858],\n",
       " [-77.29705150044444, 40.8019795220536],\n",
       " [-77.1520948241546, 40.80424455302526],\n",
       " [-77.00712866931323, 40.806327465921676],\n",
       " [-76.86215382882818, 40.80822823610093],\n",
       " [-76.71717109602045, 40.809946841072446],\n",
       " [-76.57218126458646, 40.811483260498136],\n",
       " [-76.42718512856038, 40.81283747619362],\n",
       " [-76.28218348227637, 40.81400947212919],\n",
       " [-76.13717712033089, 40.81499923443064],\n",
       " [-75.99216683754484, 40.81580675138007],\n",
       " [-75.84715342892575, 40.81643201341655],\n",
       " [-75.70213768963008, 40.816875013136595],\n",
       " [-75.55712041492518, 40.81713574529461],\n",
       " [-75.4121024001515, 40.817214206803136],\n",
       " [-75.26708444068481, 40.817110396733085],\n",
       " [-75.12206733189817, 40.81682431631371],\n",
       " [-74.97705186912418, 40.816355968932626],\n",
       " [-74.83203884761706, 40.81570536013554],\n",
       " [-74.68702906251474, 40.814872497625984],\n",
       " [-74.5420233088011, 40.813857391264925],\n",
       " [-74.39702238126812, 40.812660053070175],\n",
       " [-74.25202707447802, 40.81128049721572],\n",
       " [-74.10703818272549, 40.809718740031016],\n",
       " [-73.9620565, 40.80797480000001]]"
      ]
     },
     "execution_count": 6,
     "metadata": {},
     "output_type": "execute_result"
    }
   ],
   "source": [
    "def getfulldata(place):\n",
    "    location=get_latlng(place)\n",
    "    return makearc(location[\"lat\"],location[\"lng\"],num=100)\n",
    "getfulldata(\"Columbia University)\")"
   ]
  },
  {
   "cell_type": "code",
   "execution_count": 7,
   "metadata": {},
   "outputs": [],
   "source": [
    "fullnames={\n",
    "    \"Berkeley\":\"University of California Berkeley\",\n",
    "    \"Boston University\":\"Boston University\",\n",
    "    \"Brandeis\":\"Brandeis Univeristy\",\n",
    "    \"Chicago\":\"University of Chicago\",\n",
    "    \"CMU\":\"Carnegie Mellon University\",\n",
    "    \"Columbia\":\"Columbia University\",\n",
    "    \"Cornell\":\"Cornell University\",\n",
    "    \"Dartmouth\":\"Dartmouth University\",\n",
    "    \"Georgia Tech\":\"Georgia Tech\",\n",
    "    \"Harvard\":\"Harvard University\",\n",
    "    \"NortheasternSeattle\":\"University of Northeastern at Seattle\",\n",
    "    \"Northwestern\":\"Northwestern University\",\n",
    "    \"NYU\":\"New York University\",\n",
    "    \"Princeton\":\"Princeton University\",\n",
    "    \"Purdue\":\"Purdue University\",\n",
    "    \"South Carolina\":\"University of South Carolina\",\n",
    "    \"Stanford\":\"Stanford University\",\n",
    "    \"Toronto\":\"University of Toronto\",\n",
    "    \"UCLA\":\"University of California at Los Angeles\",\n",
    "    \"UIUC\":\"University of Illinois at Urbana-Champaign\",\n",
    "    \"USC\":\"University of Southern California\",\n",
    "    \"UCSD\":\"University of California San Diego\",\n",
    "    \"Vanderbilt\":\"Vanderbilt University\",\n",
    "    \"Yale\":\"Yale University\"\n",
    "}"
   ]
  },
  {
   "cell_type": "code",
   "execution_count": 8,
   "metadata": {},
   "outputs": [],
   "source": [
    "paths={place:getfulldata(fullname) for (place,fullname) in fullnames.items()}"
   ]
  },
  {
   "cell_type": "code",
   "execution_count": 9,
   "metadata": {},
   "outputs": [],
   "source": [
    "data_raw=pandas.read_excel(fname+\".xlsx\")\n",
    "data=data_raw.copy()"
   ]
  },
  {
   "cell_type": "code",
   "execution_count": 10,
   "metadata": {},
   "outputs": [],
   "source": [
    "out={record[\"university\"]:{\"path\":paths[record[\"university\"]],\"count\":record[\"count\"]} for _,record in data.iterrows()}"
   ]
  },
  {
   "cell_type": "code",
   "execution_count": 11,
   "metadata": {},
   "outputs": [],
   "source": [
    "with open('index.js','w') as f:\n",
    "    print('var data='+json.dumps(out),file=f)"
   ]
  }
 ],
 "metadata": {
  "kernelspec": {
   "display_name": "Python 3",
   "language": "python",
   "name": "python3"
  },
  "language_info": {
   "codemirror_mode": {
    "name": "ipython",
    "version": 3
   },
   "file_extension": ".py",
   "mimetype": "text/x-python",
   "name": "python",
   "nbconvert_exporter": "python",
   "pygments_lexer": "ipython3",
   "version": "3.7.3"
  }
 },
 "nbformat": 4,
 "nbformat_minor": 2
}
